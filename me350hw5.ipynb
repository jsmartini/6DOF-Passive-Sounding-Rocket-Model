{
 "metadata": {
  "language_info": {
   "codemirror_mode": {
    "name": "ipython",
    "version": 3
   },
   "file_extension": ".py",
   "mimetype": "text/x-python",
   "name": "python",
   "nbconvert_exporter": "python",
   "pygments_lexer": "ipython3",
   "version": "3.8.7-final"
  },
  "orig_nbformat": 2,
  "kernelspec": {
   "name": "python3",
   "display_name": "Python 3.8.7 64-bit",
   "metadata": {
    "interpreter": {
     "hash": "b92f0c51644b651275e3534b9b8e46bd60ea1795ab21c2c2354f4474e8c0d7f1"
    }
   }
  }
 },
 "nbformat": 4,
 "nbformat_minor": 2,
 "cells": [
  {
   "cell_type": "code",
   "execution_count": 24,
   "metadata": {},
   "outputs": [],
   "source": [
    "def VM(**s, default=0):\n",
    "    vm = lambda s1,s2,s3,t1,t2,t3: (0.5*((s1 - s2)**2 + (s2 - s3)**2 + (s3-s1)**2 + 3*(t1**2 +    t2**2 + t3**2)))**0.5\n",
    "    ks = [\"s1\", \"s2\", \"s3\", \"t1\", \"t2\", \"t3\"]\n",
    "    d = {}\n",
    "    missing = set(ks) - set(s.keys())\n",
    "    for k in ks:\n",
    "        if k in missing:\n",
    "            d[k] = 0\n",
    "        else:\n",
    "            d[k] = s[k]\n",
    "    return vm(\n",
    "        s1=d[\"s1\"],\n",
    "        s2=d[\"s2\"],\n",
    "        s3=d[\"s3\"],\n",
    "        t1=d[\"t1\"],\n",
    "        t2=d[\"t2\"],\n",
    "        t3=d[\"t3\"]\n",
    "    )\n",
    "\n"
   ]
  },
  {
   "cell_type": "code",
   "execution_count": 25,
   "metadata": {},
   "outputs": [
    {
     "output_type": "execute_result",
     "data": {
      "text/plain": [
       "3.5"
      ]
     },
     "metadata": {},
     "execution_count": 25
    }
   ],
   "source": [
    "350 / VM(s1=100, s2=100)"
   ]
  },
  {
   "cell_type": "code",
   "execution_count": 26,
   "metadata": {},
   "outputs": [
    {
     "output_type": "execute_result",
     "data": {
      "text/plain": [
       "3.6458333333333335"
      ]
     },
     "metadata": {},
     "execution_count": 26
    }
   ],
   "source": [
    "350 / VM(s1=96)"
   ]
  },
  {
   "cell_type": "code",
   "execution_count": 9,
   "metadata": {},
   "outputs": [],
   "source": [
    "def sig_solver(**kwargs):\n",
    "    R = lambda s1, s2, t: (((s1-s2)/2)**2 + (t)**2)**0.5\n",
    "    a = kwargs\n",
    "    if len(kwargs.keys()) == 3:\n",
    "        return R(a[\"s1\"], a[\"s2\"], a[\"t\"])\n",
    "    else:\n",
    "        s = [a[k] for k in a if k != \"t\"][0]\n",
    "        return R(s, 0, a[\"t\"])"
   ]
  },
  {
   "cell_type": "code",
   "execution_count": 12,
   "metadata": {},
   "outputs": [
    {
     "output_type": "execute_result",
     "data": {
      "text/plain": [
       "4.083872213137122"
      ]
     },
     "metadata": {},
     "execution_count": 12
    }
   ],
   "source": [
    "350/sig_solver(s1=96,t= -71)"
   ]
  },
  {
   "cell_type": "code",
   "execution_count": null,
   "metadata": {},
   "outputs": [],
   "source": []
  }
 ]
}